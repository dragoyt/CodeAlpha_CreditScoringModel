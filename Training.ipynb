{
 "cells": [
  {
   "cell_type": "code",
   "execution_count": 1,
   "metadata": {},
   "outputs": [],
   "source": [
    "#Data Preparation\n",
    "\n",
    "import pandas as pd\n",
    "import numpy as np\n",
    "\n",
    "# Generate synthetic data\n",
    "np.random.seed(42)\n",
    "n_samples = 1000\n",
    "\n",
    "income = np.random.normal(50, 15, n_samples).clip(20, 100).astype(int)  # Annual income ($k)\n",
    "debt = np.random.normal(20, 5, n_samples).clip(5, 40).astype(int)        # Total debt ($k)\n",
    "credit_history = np.random.choice(['poor', 'fair', 'good', 'excellent'], n_samples, p=[0.2, 0.3, 0.3, 0.2])\n",
    "\n",
    "# Simulate creditworthiness (target variable)\n",
    "prob = (\n",
    "    0.3 * (income / 50) + \n",
    "    0.3 * (1 - debt / 30) + \n",
    "    0.4 * np.where(credit_history == 'excellent', 1, \n",
    "        np.where(credit_history == 'good', 0.8,\n",
    "        np.where(credit_history == 'fair', 0.5, 0.3)))\n",
    ")\n",
    "creditworthy = (prob + np.random.normal(0, 0.1, n_samples)) > 0.5\n",
    "creditworthy = creditworthy.astype(int)\n",
    "\n",
    "df = pd.DataFrame({\n",
    "    'income': income,\n",
    "    'debt': debt,\n",
    "    'credit_history': credit_history,\n",
    "    'creditworthy': creditworthy\n",
    "})\n",
    "\n",
    "# Add debt-to-income ratio\n",
    "df['debt_to_income'] = df['debt'] / (df['income'] + 1e-6)  # Avoid division by zero"
   ]
  },
  {
   "cell_type": "code",
   "execution_count": 2,
   "metadata": {},
   "outputs": [],
   "source": [
    "#Preprocessing\n",
    "\n",
    "from sklearn.model_selection import train_test_split\n",
    "from sklearn.preprocessing import StandardScaler, OneHotEncoder\n",
    "from sklearn.compose import ColumnTransformer\n",
    "\n",
    "# Split data\n",
    "X = df.drop('creditworthy', axis=1)\n",
    "y = df['creditworthy']\n",
    "X_train, X_test, y_train, y_test = train_test_split(X, y, test_size=0.2, random_state=42)\n",
    "\n",
    "# Preprocessing pipeline\n",
    "preprocessor = ColumnTransformer([\n",
    "    ('num', StandardScaler(), ['income', 'debt', 'debt_to_income']),\n",
    "    ('cat', OneHotEncoder(), ['credit_history'])\n",
    "])"
   ]
  },
  {
   "cell_type": "code",
   "execution_count": 3,
   "metadata": {},
   "outputs": [],
   "source": [
    "#Handle Class Imbalance\n",
    "\n",
    "from imblearn.over_sampling import SMOTE\n",
    "\n",
    "# Apply SMOTE to training data\n",
    "X_train_processed = preprocessor.fit_transform(X_train)\n",
    "X_test_processed = preprocessor.transform(X_test)\n",
    "\n",
    "smote = SMOTE(random_state=42)\n",
    "X_train_res, y_train_res = smote.fit_resample(X_train_processed, y_train)"
   ]
  },
  {
   "cell_type": "code",
   "execution_count": 4,
   "metadata": {},
   "outputs": [
    {
     "name": "stdout",
     "output_type": "stream",
     "text": [
      "XGBoost installed successfully!\n"
     ]
    }
   ],
   "source": [
    "from xgboost import XGBClassifier\n",
    "print(\"XGBoost installed successfully!\")"
   ]
  },
  {
   "cell_type": "code",
   "execution_count": 5,
   "metadata": {},
   "outputs": [],
   "source": [
    "#Model Training\n",
    "\n",
    "from sklearn.linear_model import LogisticRegression\n",
    "from sklearn.ensemble import RandomForestClassifier\n",
    "from sklearn.metrics import classification_report\n",
    "from xgboost import XGBClassifier\n",
    "\n",
    "# Initialize models\n",
    "models = {\n",
    "    'Logistic Regression': LogisticRegression(),\n",
    "    'Random Forest': RandomForestClassifier(),\n",
    "    'XGBoost': XGBClassifier()\n",
    "}\n",
    "\n",
    "# Train and evaluate\n",
    "results = {}\n",
    "for name, model in models.items():\n",
    "    model.fit(X_train_res, y_train_res)\n",
    "    y_pred = model.predict(X_test_processed)\n",
    "    results[name] = classification_report(y_test, y_pred, output_dict=True)"
   ]
  },
  {
   "cell_type": "code",
   "execution_count": 6,
   "metadata": {},
   "outputs": [
    {
     "name": "stdout",
     "output_type": "stream",
     "text": [
      "**Logistic Regression**\n",
      "              precision    recall  f1-score   support\n",
      "\n",
      "           0       0.64      0.62      0.63        37\n",
      "           1       0.91      0.92      0.92       163\n",
      "\n",
      "    accuracy                           0.86       200\n",
      "   macro avg       0.78      0.77      0.77       200\n",
      "weighted avg       0.86      0.86      0.86       200\n",
      "\n",
      "ROC-AUC: 0.85\n",
      "\n",
      "**Random Forest**\n",
      "              precision    recall  f1-score   support\n",
      "\n",
      "           0       0.64      0.62      0.63        37\n",
      "           1       0.91      0.92      0.92       163\n",
      "\n",
      "    accuracy                           0.86       200\n",
      "   macro avg       0.78      0.77      0.77       200\n",
      "weighted avg       0.86      0.86      0.86       200\n",
      "\n",
      "ROC-AUC: 0.85\n",
      "\n",
      "**XGBoost**\n",
      "              precision    recall  f1-score   support\n",
      "\n",
      "           0       0.64      0.62      0.63        37\n",
      "           1       0.91      0.92      0.92       163\n",
      "\n",
      "    accuracy                           0.86       200\n",
      "   macro avg       0.78      0.77      0.77       200\n",
      "weighted avg       0.86      0.86      0.86       200\n",
      "\n",
      "ROC-AUC: 0.85\n",
      "\n"
     ]
    }
   ],
   "source": [
    "#Evaluation\n",
    "\n",
    "from sklearn.metrics import classification_report, roc_auc_score\n",
    "\n",
    "for name, report in results.items():\n",
    "    print(f\"**{name}**\")\n",
    "    print(classification_report(y_test, model.predict(X_test_processed)))\n",
    "    y_prob = model.predict_proba(X_test_processed)[:, 1]\n",
    "    print(f\"ROC-AUC: {roc_auc_score(y_test, y_prob):.2f}\\n\")"
   ]
  },
  {
   "cell_type": "code",
   "execution_count": 7,
   "metadata": {},
   "outputs": [
    {
     "data": {
      "image/png": "[encoded data removed]",
      "text/plain": [
       "<Figure size 640x480 with 1 Axes>"
      ]
     },
     "metadata": {},
     "output_type": "display_data"
    }
   ],
   "source": [
    "#Random Forest Importance\n",
    "\n",
    "import matplotlib.pyplot as plt\n",
    "\n",
    "# Extract feature names\n",
    "cat_features = preprocessor.named_transformers_['cat'].get_feature_names_out(['credit_history'])\n",
    "num_features = ['income', 'debt', 'debt_to_income']\n",
    "all_features = np.concatenate([num_features, cat_features])\n",
    "\n",
    "# Plot importance\n",
    "rf = models['Random Forest']\n",
    "plt.barh(all_features, rf.feature_importances_)\n",
    "plt.title('Random Forest Feature Importance')\n",
    "plt.show()"
   ]
  },
  {
   "cell_type": "code",
   "execution_count": 8,
   "metadata": {},
   "outputs": [
    {
     "name": "stdout",
     "output_type": "stream",
     "text": [
      "Best parameters: {'learning_rate': 0.1, 'max_depth': 3, 'n_estimators': 200}\n"
     ]
    }
   ],
   "source": [
    "#Hyperparameter Tuning\n",
    "\n",
    "from sklearn.model_selection import GridSearchCV\n",
    "\n",
    "param_grid = {\n",
    "    'learning_rate': [0.01, 0.1],\n",
    "    'max_depth': [3, 5],\n",
    "    'n_estimators': [100, 200]\n",
    "}\n",
    "\n",
    "grid_search = GridSearchCV(XGBClassifier(), param_grid, cv=3, scoring='roc_auc')\n",
    "grid_search.fit(X_train_res, y_train_res)\n",
    "print(f\"Best parameters: {grid_search.best_params_}\")"
   ]
  },
  {
   "cell_type": "code",
   "execution_count": 9,
   "metadata": {},
   "outputs": [
    {
     "data": {
      "text/plain": [
       "['credit_scoring_model.joblib']"
      ]
     },
     "execution_count": 9,
     "metadata": {},
     "output_type": "execute_result"
    }
   ],
   "source": [
    "#save the Model\n",
    "\n",
    "import joblib\n",
    "\n",
    "joblib.dump(preprocessor, 'preprocessor.joblib')\n",
    "joblib.dump(models['XGBoost'], 'credit_scoring_model.joblib')"
   ]
  }
 ],
 "metadata": {
  "kernelspec": {
   "display_name": "myenv",
   "language": "python",
   "name": "python3"
  },
  "language_info": {
   "codemirror_mode": {
    "name": "ipython",
    "version": 3
   },
   "file_extension": ".py",
   "mimetype": "text/x-python",
   "name": "python",
   "nbconvert_exporter": "python",
   "pygments_lexer": "ipython3",
   "version": "3.10.14"
  }
 },
 "nbformat": 4,
 "nbformat_minor": 2
}
